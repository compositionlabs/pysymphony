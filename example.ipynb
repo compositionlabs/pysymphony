{
 "cells": [
  {
   "cell_type": "code",
   "execution_count": 3,
   "metadata": {},
   "outputs": [
    {
     "name": "stdout",
     "output_type": "stream",
     "text": [
      "Requirement already satisfied: pysymphony in ./venv/lib/python3.12/site-packages (0.2.0)\n",
      "Requirement already satisfied: certifi==2024.8.30 in ./venv/lib/python3.12/site-packages (from pysymphony) (2024.8.30)\n",
      "Requirement already satisfied: charset-normalizer==3.3.2 in ./venv/lib/python3.12/site-packages (from pysymphony) (3.3.2)\n",
      "Requirement already satisfied: idna==3.10 in ./venv/lib/python3.12/site-packages (from pysymphony) (3.10)\n",
      "Requirement already satisfied: requests==2.32.3 in ./venv/lib/python3.12/site-packages (from pysymphony) (2.32.3)\n",
      "Requirement already satisfied: urllib3==2.2.3 in ./venv/lib/python3.12/site-packages (from pysymphony) (2.2.3)\n",
      "\n",
      "\u001b[1m[\u001b[0m\u001b[34;49mnotice\u001b[0m\u001b[1;39;49m]\u001b[0m\u001b[39;49m A new release of pip is available: \u001b[0m\u001b[31;49m24.0\u001b[0m\u001b[39;49m -> \u001b[0m\u001b[32;49m24.2\u001b[0m\n",
      "\u001b[1m[\u001b[0m\u001b[34;49mnotice\u001b[0m\u001b[1;39;49m]\u001b[0m\u001b[39;49m To update, run: \u001b[0m\u001b[32;49mpip install --upgrade pip\u001b[0m\n",
      "Note: you may need to restart the kernel to use updated packages.\n",
      "Requirement already satisfied: python-dotenv in ./venv/lib/python3.12/site-packages (1.0.1)\n",
      "\n",
      "\u001b[1m[\u001b[0m\u001b[34;49mnotice\u001b[0m\u001b[1;39;49m]\u001b[0m\u001b[39;49m A new release of pip is available: \u001b[0m\u001b[31;49m24.0\u001b[0m\u001b[39;49m -> \u001b[0m\u001b[32;49m24.2\u001b[0m\n",
      "\u001b[1m[\u001b[0m\u001b[34;49mnotice\u001b[0m\u001b[1;39;49m]\u001b[0m\u001b[39;49m To update, run: \u001b[0m\u001b[32;49mpip install --upgrade pip\u001b[0m\n",
      "Note: you may need to restart the kernel to use updated packages.\n"
     ]
    }
   ],
   "source": [
    "%pip install pysymphony\n",
    "%pip install python-dotenv"
   ]
  },
  {
   "cell_type": "code",
   "execution_count": 3,
   "metadata": {},
   "outputs": [],
   "source": [
    "import os\n",
    "import getpass\n",
    "\n",
    "if \"SYMPHONY_API_KEY\" not in os.environ:\n",
    "    os.environ[\"SYMPHONY_API_KEY\"] = getpass.getpass(\"Enter your Symphony API key: \")"
   ]
  },
  {
   "cell_type": "code",
   "execution_count": 1,
   "metadata": {},
   "outputs": [
    {
     "name": "stderr",
     "output_type": "stream",
     "text": [
      "INFO:root:GET https://inference.composition-labs.com/inference/tools/list: RUNNING\n",
      "INFO:root:GET https://inference.composition-labs.com/inference/tools/list: SUCCESS\n"
     ]
    }
   ],
   "source": [
    "from pysymphony import SymphonyClient\n",
    "import logging\n",
    "\n",
    "logging.basicConfig(level=logging.INFO)\n",
    "\n",
    "client = SymphonyClient()"
   ]
  },
  {
   "cell_type": "code",
   "execution_count": null,
   "metadata": {},
   "outputs": [],
   "source": [
    "client.tools"
   ]
  },
  {
   "cell_type": "code",
   "execution_count": null,
   "metadata": {},
   "outputs": [],
   "source": [
    "from pysymphony.settings import settings\n",
    "\n",
    "def add_tool(a: int, b: int):\n",
    "    \"\"\"\n",
    "    Add two numbers\n",
    "    \"\"\"\n",
    "    print(f\"`add_tool` tool called on the client side with inputs {a} and {b}\")\n",
    "    return a + b\n",
    "\n",
    "settings.add_local_tool(add_tool)"
   ]
  },
  {
   "cell_type": "code",
   "execution_count": null,
   "metadata": {},
   "outputs": [],
   "source": [
    "client.tools"
   ]
  },
  {
   "cell_type": "code",
   "execution_count": null,
   "metadata": {},
   "outputs": [],
   "source": [
    "from pysymphony.workflows import Workflow\n",
    "\n",
    "task = (\n",
    "    \"Given a list of numbers, return the sum of the numbers.\"\n",
    ")\n",
    "parameters = {\n",
    "    \"max_steps\": 1\n",
    "}\n",
    "useful_tools = [\"add_tool\"]\n",
    "workflow = client.generate_workflow(task, parameters, useful_tools)\n",
    "print(workflow)"
   ]
  },
  {
   "cell_type": "code",
   "execution_count": null,
   "metadata": {},
   "outputs": [],
   "source": [
    "from IPython.display import Image, display\n",
    "display(Image(url=workflow.get_mermaid_image_url()))"
   ]
  },
  {
   "cell_type": "code",
   "execution_count": null,
   "metadata": {},
   "outputs": [],
   "source": [
    "run = workflow.init_run(input=\"12312413312312, 12312312312, 12312312, 123123\")"
   ]
  },
  {
   "cell_type": "code",
   "execution_count": null,
   "metadata": {},
   "outputs": [],
   "source": [
    "run.run()"
   ]
  },
  {
   "cell_type": "code",
   "execution_count": null,
   "metadata": {},
   "outputs": [],
   "source": [
    "from IPython.display import Markdown\n",
    "Markdown(run.ios[\"1\"]['output'])"
   ]
  },
  {
   "cell_type": "code",
   "execution_count": null,
   "metadata": {},
   "outputs": [],
   "source": [
    "from pysymphony.workflows import Workflow\n",
    "\n",
    "task = (\n",
    "    \"Given a company name, find the competitors and the founder's background and output a json of the information.\"\n",
    ")\n",
    "parameters = {\n",
    "    \"max_steps\": 3\n",
    "}\n",
    "useful_tools = [\"pplx_online\"]\n",
    "workflow = client.generate_workflow(task, parameters, useful_tools)"
   ]
  },
  {
   "cell_type": "code",
   "execution_count": null,
   "metadata": {},
   "outputs": [],
   "source": [
    "display(Image(url=workflow.get_mermaid_image_url()))"
   ]
  },
  {
   "cell_type": "code",
   "execution_count": null,
   "metadata": {},
   "outputs": [],
   "source": [
    "run = workflow.init_run(input=\"Apple\")\n",
    "run.run()\n",
    "run.ios"
   ]
  },
  {
   "cell_type": "code",
   "execution_count": null,
   "metadata": {},
   "outputs": [],
   "source": [
    "from IPython.display import Markdown\n",
    "\n",
    "Markdown(run.ios[\"3\"]['output'])"
   ]
  },
  {
   "cell_type": "code",
   "execution_count": null,
   "metadata": {},
   "outputs": [],
   "source": []
  }
 ],
 "metadata": {
  "kernelspec": {
   "display_name": "venv",
   "language": "python",
   "name": "python3"
  },
  "language_info": {
   "codemirror_mode": {
    "name": "ipython",
    "version": 3
   },
   "file_extension": ".py",
   "mimetype": "text/x-python",
   "name": "python",
   "nbconvert_exporter": "python",
   "pygments_lexer": "ipython3",
   "version": "3.12.4"
  }
 },
 "nbformat": 4,
 "nbformat_minor": 2
}
