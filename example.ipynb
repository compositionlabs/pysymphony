{
 "cells": [
  {
   "cell_type": "markdown",
   "metadata": {},
   "source": [
    "# set SYMPHONY_API_KEY as an environment variable before importing pysymphony"
   ]
  },
  {
   "cell_type": "code",
   "execution_count": 1,
   "metadata": {},
   "outputs": [
    {
     "name": "stderr",
     "output_type": "stream",
     "text": [
      "/Users/chinmayshrivastava/Documents/Github/pysymphony/venv/lib/python3.12/site-packages/pydantic/_internal/_fields.py:172: UserWarning: Field name \"schema\" in \"LocalTool\" shadows an attribute in parent \"BaseModel\"\n",
      "  warnings.warn(\n",
      "INFO:root:GET https://inference.composition-labs.com/inference/tools/list: RUNNING\n",
      "INFO:root:GET https://inference.composition-labs.com/inference/tools/list: SUCCESS\n"
     ]
    }
   ],
   "source": [
    "from pysymphony import SymphonyClient, settings\n",
    "import logging\n",
    "\n",
    "# set logging level to INFO for basic logs\n",
    "logging.basicConfig(level=logging.INFO)\n",
    "\n",
    "# add a local tool\n",
    "# ensure to add a docstring for the tool description, and define the input parameter types\n",
    "def add_tool(a: int, b: int):\n",
    "    \"\"\"\n",
    "    Add two numbers\n",
    "    \"\"\"\n",
    "    print(f\"Adding {a} and {b}\")\n",
    "    return a + b\n",
    "\n",
    "settings.add_local_tool(add_tool)"
   ]
  },
  {
   "cell_type": "code",
   "execution_count": 2,
   "metadata": {},
   "outputs": [],
   "source": [
    "# initialize the symphony client\n",
    "client = SymphonyClient()"
   ]
  },
  {
   "cell_type": "code",
   "execution_count": 3,
   "metadata": {},
   "outputs": [
    {
     "data": {
      "text/plain": [
       "[{'id': 'pplx_online',\n",
       "  'name': 'Perplexity Online',\n",
       "  'description': 'Useful for getting internet enabled (access to internet) natural language answers to input queries without citations.',\n",
       "  'type': <ToolType.SYMPHONY: 'symphony'>},\n",
       " {'id': 'openai_img_to_text',\n",
       "  'name': 'OpenAI Image to Text',\n",
       "  'description': 'Useful for analyzing and describing images, detecting objects, and extracting text from images.',\n",
       "  'type': <ToolType.SYMPHONY: 'symphony'>},\n",
       " {'id': 'clinical_trials_gov_data_retriever',\n",
       "  'name': 'Clinical Trials Gov Data Retriever',\n",
       "  'description': 'Useful for retrieving a list of clinical studies for the pharma and biotech indistries, based on a given query, or details of a single clinical study based on a given NCT number. Pass studies_query to get a list of studies based on the query. Pass nct_id to get details of a single study. Never pass both studies_query and nct_id.',\n",
       "  'type': <ToolType.SYMPHONY: 'symphony'>},\n",
       " {'id': 'competitor_analysis_tool',\n",
       "  'name': 'Competition Tool',\n",
       "  'description': 'Takes in a company name and finds existing competitors from basic internet search.',\n",
       "  'type': <ToolType.CLIENT: 'client'>},\n",
       " {'id': 'competitor_analysis_tool_v2',\n",
       "  'name': 'Competition Tool',\n",
       "  'description': 'Takes in a company name and finds existing competitors from basic internet search.',\n",
       "  'type': <ToolType.CLIENT: 'client'>},\n",
       " {'id': 'add_tool',\n",
       "  'name': 'add_tool',\n",
       "  'description': 'Add two numbers',\n",
       "  'type': <ToolType.CLIENT: 'client'>}]"
      ]
     },
     "execution_count": 3,
     "metadata": {},
     "output_type": "execute_result"
    }
   ],
   "source": [
    "# check available tools\n",
    "client.tools"
   ]
  },
  {
   "cell_type": "code",
   "execution_count": 15,
   "metadata": {},
   "outputs": [
    {
     "name": "stderr",
     "output_type": "stream",
     "text": [
      "ERROR:root:POST https://inference.composition-labs.com/inference/planner/generateworkflow: ERROR 429 {\"error\":\"Rate limit exceeded: 2 per 1 minute\"}\n",
      "ERROR:root:POST https://inference.composition-labs.com/inference/planner/generateworkflow: ERROR POST https://inference.composition-labs.com/inference/planner/generateworkflow: ERROR 429 {\"error\":\"Rate limit exceeded: 2 per 1 minute\"}\n"
     ]
    },
    {
     "ename": "Exception",
     "evalue": "POST https://inference.composition-labs.com/inference/planner/generateworkflow: ERROR 429 {\"error\":\"Rate limit exceeded: 2 per 1 minute\"}",
     "output_type": "error",
     "traceback": [
      "\u001b[0;31m---------------------------------------------------------------------------\u001b[0m",
      "\u001b[0;31mException\u001b[0m                                 Traceback (most recent call last)",
      "Cell \u001b[0;32mIn[15], line 11\u001b[0m\n\u001b[1;32m      8\u001b[0m task_description \u001b[38;5;241m=\u001b[39m \u001b[38;5;124m\"\u001b[39m\u001b[38;5;124mFor the given list of numbers, add them all up\u001b[39m\u001b[38;5;124m\"\u001b[39m\n\u001b[1;32m     10\u001b[0m \u001b[38;5;66;03m# 2. generate the workflow\u001b[39;00m\n\u001b[0;32m---> 11\u001b[0m workflow \u001b[38;5;241m=\u001b[39m \u001b[43mclient\u001b[49m\u001b[38;5;241;43m.\u001b[39;49m\u001b[43mgenerate_workflow\u001b[49m\u001b[43m(\u001b[49m\u001b[43mtask_description\u001b[49m\u001b[38;5;241;43m=\u001b[39;49m\u001b[43mtask_description\u001b[49m\u001b[43m,\u001b[49m\u001b[43m \u001b[49m\u001b[43mtools\u001b[49m\u001b[38;5;241;43m=\u001b[39;49m\u001b[43museful_tools\u001b[49m\u001b[43m,\u001b[49m\u001b[43m \u001b[49m\u001b[43mparameters\u001b[49m\u001b[38;5;241;43m=\u001b[39;49m\u001b[43mparameters\u001b[49m\u001b[43m)\u001b[49m\n\u001b[1;32m     13\u001b[0m \u001b[38;5;66;03m# print the workflow\u001b[39;00m\n\u001b[1;32m     14\u001b[0m \u001b[38;5;28mprint\u001b[39m(workflow\u001b[38;5;241m.\u001b[39m\u001b[38;5;18m__dict__\u001b[39m)\n",
      "File \u001b[0;32m~/Documents/Github/pysymphony/pysymphony/client.py:100\u001b[0m, in \u001b[0;36mSymphonyClient.generate_workflow\u001b[0;34m(self, task_description, parameters, tools)\u001b[0m\n\u001b[1;32m     96\u001b[0m \u001b[38;5;250m\u001b[39m\u001b[38;5;124;03m\"\"\"\u001b[39;00m\n\u001b[1;32m     97\u001b[0m \u001b[38;5;124;03mGenerate a workflow.\u001b[39;00m\n\u001b[1;32m     98\u001b[0m \u001b[38;5;124;03m\"\"\"\u001b[39;00m\n\u001b[1;32m     99\u001b[0m workflow \u001b[38;5;241m=\u001b[39m Workflow(task_description\u001b[38;5;241m=\u001b[39mtask_description, parameters\u001b[38;5;241m=\u001b[39mparameters, tools\u001b[38;5;241m=\u001b[39mtools, session\u001b[38;5;241m=\u001b[39m\u001b[38;5;28mself\u001b[39m\u001b[38;5;241m.\u001b[39msession, base_url\u001b[38;5;241m=\u001b[39m\u001b[38;5;28mself\u001b[39m\u001b[38;5;241m.\u001b[39mbase_url)\n\u001b[0;32m--> 100\u001b[0m \u001b[43mworkflow\u001b[49m\u001b[38;5;241;43m.\u001b[39;49m\u001b[43mgenerate_workflow\u001b[49m\u001b[43m(\u001b[49m\u001b[43m)\u001b[49m\n\u001b[1;32m    101\u001b[0m \u001b[38;5;28mself\u001b[39m\u001b[38;5;241m.\u001b[39mworkflows\u001b[38;5;241m.\u001b[39mappend(workflow)\n\u001b[1;32m    102\u001b[0m \u001b[38;5;28;01mreturn\u001b[39;00m workflow\n",
      "File \u001b[0;32m~/Documents/Github/pysymphony/pysymphony/workflows.py:129\u001b[0m, in \u001b[0;36mWorkflow.generate_workflow\u001b[0;34m(self)\u001b[0m\n\u001b[1;32m    127\u001b[0m \u001b[38;5;28;01mexcept\u001b[39;00m \u001b[38;5;167;01mException\u001b[39;00m \u001b[38;5;28;01mas\u001b[39;00m e:\n\u001b[1;32m    128\u001b[0m     logging\u001b[38;5;241m.\u001b[39merror(\u001b[38;5;124mf\u001b[39m\u001b[38;5;124m\"\u001b[39m\u001b[38;5;124mPOST \u001b[39m\u001b[38;5;132;01m{\u001b[39;00m\u001b[38;5;28mself\u001b[39m\u001b[38;5;241m.\u001b[39mbase_url\u001b[38;5;132;01m}\u001b[39;00m\u001b[38;5;124m/planner/generateworkflow: ERROR \u001b[39m\u001b[38;5;132;01m{\u001b[39;00me\u001b[38;5;132;01m}\u001b[39;00m\u001b[38;5;124m\"\u001b[39m)\n\u001b[0;32m--> 129\u001b[0m     \u001b[38;5;28;01mraise\u001b[39;00m e\n",
      "File \u001b[0;32m~/Documents/Github/pysymphony/pysymphony/workflows.py:126\u001b[0m, in \u001b[0;36mWorkflow.generate_workflow\u001b[0;34m(self)\u001b[0m\n\u001b[1;32m    124\u001b[0m     \u001b[38;5;28;01melse\u001b[39;00m:\n\u001b[1;32m    125\u001b[0m         logging\u001b[38;5;241m.\u001b[39merror(\u001b[38;5;124mf\u001b[39m\u001b[38;5;124m\"\u001b[39m\u001b[38;5;124mPOST \u001b[39m\u001b[38;5;132;01m{\u001b[39;00m\u001b[38;5;28mself\u001b[39m\u001b[38;5;241m.\u001b[39mbase_url\u001b[38;5;132;01m}\u001b[39;00m\u001b[38;5;124m/planner/generateworkflow: ERROR \u001b[39m\u001b[38;5;132;01m{\u001b[39;00mresponse\u001b[38;5;241m.\u001b[39mstatus_code\u001b[38;5;132;01m}\u001b[39;00m\u001b[38;5;124m \u001b[39m\u001b[38;5;132;01m{\u001b[39;00mresponse\u001b[38;5;241m.\u001b[39mtext\u001b[38;5;132;01m}\u001b[39;00m\u001b[38;5;124m\"\u001b[39m)\n\u001b[0;32m--> 126\u001b[0m         \u001b[38;5;28;01mraise\u001b[39;00m \u001b[38;5;167;01mException\u001b[39;00m(\u001b[38;5;124mf\u001b[39m\u001b[38;5;124m\"\u001b[39m\u001b[38;5;124mPOST \u001b[39m\u001b[38;5;132;01m{\u001b[39;00m\u001b[38;5;28mself\u001b[39m\u001b[38;5;241m.\u001b[39mbase_url\u001b[38;5;132;01m}\u001b[39;00m\u001b[38;5;124m/planner/generateworkflow: ERROR \u001b[39m\u001b[38;5;132;01m{\u001b[39;00mresponse\u001b[38;5;241m.\u001b[39mstatus_code\u001b[38;5;132;01m}\u001b[39;00m\u001b[38;5;124m \u001b[39m\u001b[38;5;132;01m{\u001b[39;00mresponse\u001b[38;5;241m.\u001b[39mtext\u001b[38;5;132;01m}\u001b[39;00m\u001b[38;5;124m\"\u001b[39m)\n\u001b[1;32m    127\u001b[0m \u001b[38;5;28;01mexcept\u001b[39;00m \u001b[38;5;167;01mException\u001b[39;00m \u001b[38;5;28;01mas\u001b[39;00m e:\n\u001b[1;32m    128\u001b[0m     logging\u001b[38;5;241m.\u001b[39merror(\u001b[38;5;124mf\u001b[39m\u001b[38;5;124m\"\u001b[39m\u001b[38;5;124mPOST \u001b[39m\u001b[38;5;132;01m{\u001b[39;00m\u001b[38;5;28mself\u001b[39m\u001b[38;5;241m.\u001b[39mbase_url\u001b[38;5;132;01m}\u001b[39;00m\u001b[38;5;124m/planner/generateworkflow: ERROR \u001b[39m\u001b[38;5;132;01m{\u001b[39;00me\u001b[38;5;132;01m}\u001b[39;00m\u001b[38;5;124m\"\u001b[39m)\n",
      "\u001b[0;31mException\u001b[0m: POST https://inference.composition-labs.com/inference/planner/generateworkflow: ERROR 429 {\"error\":\"Rate limit exceeded: 2 per 1 minute\"}"
     ]
    }
   ],
   "source": [
    "# generate a workflow\n",
    "\n",
    "# 1. define relevant parameters\n",
    "useful_tools = [\"add_tool\"]\n",
    "parameters = {\n",
    "    \"max_steps\": 1\n",
    "}\n",
    "task_description = \"For the given list of numbers, add them all up\"\n",
    "\n",
    "# 2. generate the workflow\n",
    "workflow = client.generate_workflow(task_description=task_description, tools=useful_tools, parameters=parameters)\n",
    "\n",
    "# print the workflow\n",
    "print(workflow.__dict__)"
   ]
  },
  {
   "cell_type": "code",
   "execution_count": 12,
   "metadata": {},
   "outputs": [
    {
     "name": "stderr",
     "output_type": "stream",
     "text": [
      "INFO:root:POST https://inference.composition-labs.com/inference/runner/initrun: SUCCESS\n"
     ]
    }
   ],
   "source": [
    "# run the workflow\n",
    "\n",
    "# 1. initialize the run\n",
    "run = workflow.init_run(input=\"12313123, 12312312324, 12313, 123123123\")"
   ]
  },
  {
   "cell_type": "code",
   "execution_count": 13,
   "metadata": {},
   "outputs": [
    {
     "name": "stderr",
     "output_type": "stream",
     "text": [
      "INFO:root:POST https://inference.composition-labs.com/inference/runner/runstep: SUCCESS\n"
     ]
    },
    {
     "data": {
      "text/plain": [
       "<Status.SUCCESS: 'success'>"
      ]
     },
     "execution_count": 13,
     "metadata": {},
     "output_type": "execute_result"
    }
   ],
   "source": [
    "run.run()"
   ]
  },
  {
   "cell_type": "code",
   "execution_count": 14,
   "metadata": {},
   "outputs": [
    {
     "data": {
      "text/plain": [
       "{'0': {'input': None, 'output': '12313123, 12312312324, 12313, 123123123'},\n",
       " '1': {'input': 'A list of numbers: 12313123, 12312312324, 12313, 123123123',\n",
       "  'output': \"To calculate the sum of the numbers in the list, we will add them together:\\n\\n1. 12313123\\n2. 12312312324\\n3. 12313\\n4. 123123123\\n\\nNow, let's perform the addition step by step:\\n\\n1. 12313123 + 12312312324 = 12312435447\\n2. 12312435447 + 12313 = 12312447760\\n3. 12312447760 + 123123123 = 12313770883\\n\\nTherefore, the total sum of all the numbers in the list is **12313770883**.\"}}"
      ]
     },
     "execution_count": 14,
     "metadata": {},
     "output_type": "execute_result"
    }
   ],
   "source": [
    "run.ios"
   ]
  },
  {
   "cell_type": "code",
   "execution_count": null,
   "metadata": {},
   "outputs": [],
   "source": []
  }
 ],
 "metadata": {
  "kernelspec": {
   "display_name": "venv",
   "language": "python",
   "name": "python3"
  },
  "language_info": {
   "codemirror_mode": {
    "name": "ipython",
    "version": 3
   },
   "file_extension": ".py",
   "mimetype": "text/x-python",
   "name": "python",
   "nbconvert_exporter": "python",
   "pygments_lexer": "ipython3",
   "version": "3.12.4"
  }
 },
 "nbformat": 4,
 "nbformat_minor": 2
}
