{
 "cells": [
  {
   "cell_type": "markdown",
   "metadata": {},
   "source": [
    "# set SYMPHONY_API_KEY as an environment variable before importing pysymphony"
   ]
  },
  {
   "cell_type": "code",
   "execution_count": 1,
   "metadata": {},
   "outputs": [
    {
     "name": "stderr",
     "output_type": "stream",
     "text": [
      "/Users/chinmayshrivastava/Documents/Github/pysymphony/venv/lib/python3.12/site-packages/pydantic/_internal/_fields.py:172: UserWarning: Field name \"schema\" in \"LocalTool\" shadows an attribute in parent \"BaseModel\"\n",
      "  warnings.warn(\n",
      "INFO:root:GET https://inference.composition-labs.com/inference/tools/list: RUNNING\n",
      "INFO:root:GET https://inference.composition-labs.com/inference/tools/list: SUCCESS\n"
     ]
    }
   ],
   "source": [
    "from pysymphony import SymphonyClient, settings\n",
    "import logging\n",
    "\n",
    "# set logging level to INFO for basic logs\n",
    "logging.basicConfig(level=logging.INFO)\n",
    "\n",
    "# add a local tool\n",
    "# ensure to add a docstring for the tool description, and define the input parameter types\n",
    "def add_tool(a: int, b: int):\n",
    "    \"\"\"\n",
    "    Add two numbers\n",
    "    \"\"\"\n",
    "    print(f\"Adding {a} and {b}\")\n",
    "    return a + b\n",
    "\n",
    "settings.add_local_tool(add_tool)"
   ]
  },
  {
   "cell_type": "code",
   "execution_count": 2,
   "metadata": {},
   "outputs": [],
   "source": [
    "# initialize the symphony client\n",
    "client = SymphonyClient()"
   ]
  },
  {
   "cell_type": "code",
   "execution_count": 3,
   "metadata": {},
   "outputs": [
    {
     "data": {
      "text/plain": [
       "[{'id': 'pplx_online',\n",
       "  'name': 'Perplexity Online',\n",
       "  'description': 'Useful for getting internet enabled (access to internet) natural language answers to input queries without citations.',\n",
       "  'type': <ToolType.SYMPHONY: 'symphony'>},\n",
       " {'id': 'openai_img_to_text',\n",
       "  'name': 'OpenAI Image to Text',\n",
       "  'description': 'Useful for analyzing and describing images, detecting objects, and extracting text from images.',\n",
       "  'type': <ToolType.SYMPHONY: 'symphony'>},\n",
       " {'id': 'clinical_trials_gov_data_retriever',\n",
       "  'name': 'Clinical Trials Gov Data Retriever',\n",
       "  'description': 'Useful for retrieving a list of clinical studies for the pharma and biotech indistries, based on a given query, or details of a single clinical study based on a given NCT number. Pass studies_query to get a list of studies based on the query. Pass nct_id to get details of a single study. Never pass both studies_query and nct_id.',\n",
       "  'type': <ToolType.SYMPHONY: 'symphony'>},\n",
       " {'id': 'competitor_analysis_tool',\n",
       "  'name': 'Competition Tool',\n",
       "  'description': 'Takes in a company name and finds existing competitors from basic internet search.',\n",
       "  'type': <ToolType.CLIENT: 'client'>},\n",
       " {'id': 'competitor_analysis_tool_v2',\n",
       "  'name': 'Competition Tool',\n",
       "  'description': 'Takes in a company name and finds existing competitors from basic internet search.',\n",
       "  'type': <ToolType.CLIENT: 'client'>},\n",
       " {'id': 'add_tool',\n",
       "  'name': 'add_tool',\n",
       "  'description': 'Add two numbers',\n",
       "  'type': <ToolType.CLIENT: 'client'>}]"
      ]
     },
     "execution_count": 3,
     "metadata": {},
     "output_type": "execute_result"
    }
   ],
   "source": [
    "# check available tools\n",
    "client.tools"
   ]
  },
  {
   "cell_type": "code",
   "execution_count": 4,
   "metadata": {},
   "outputs": [
    {
     "name": "stderr",
     "output_type": "stream",
     "text": [
      "INFO:root:POST https://inference.composition-labs.com/inference/planner/generateworkflow: SUCCESS\n",
      "INFO:root:GET https://inference.composition-labs.com/inference/planner/getworkflows: RUNNING\n",
      "INFO:root:GET https://inference.composition-labs.com/inference/planner/getworkflows: SUCCESS\n"
     ]
    },
    {
     "name": "stdout",
     "output_type": "stream",
     "text": [
      "{'id': 'f6251236-bf34-4c0d-8b1e-ad5e45c20142', 'task_description': 'For the given list of numbers, add them all up', 'nodes': [{'id': 'c312170e-ed98-446e-b7c9-4b5fdd2b6829', 'step_index': 1, 'input': 'A list of numbers', 'job': 'Take the given list of numbers and calculate the sum of all the numbers in the list.', 'output': 'The total sum of the numbers in the list.', 'prompt': 'Calculate the sum of all the numbers in the given list and provide the total sum as a single numerical value.', 'dependencies': [], 'created_at': '2024-10-08T01:47:08.889845', 'updated_at': '2024-10-08T01:47:08.889845', 'tools': []}], 'runs': [], 'parameters': {}, 'session': <requests.sessions.Session object at 0x1087a9fa0>, 'tools': ['add_tool'], 'base_url': 'https://inference.composition-labs.com/inference'}\n"
     ]
    }
   ],
   "source": [
    "# generate a workflow\n",
    "\n",
    "# 1. define relevant parameters\n",
    "useful_tools = [\"add_tool\"]\n",
    "parameters = {\n",
    "    \"max_steps\": 1\n",
    "}\n",
    "task_description = \"For the given list of numbers, add them all up\"\n",
    "\n",
    "# 2. generate the workflow\n",
    "workflow = client.generate_workflow(task_description=task_description, tools=useful_tools, parameters=parameters)\n",
    "\n",
    "# print the workflow\n",
    "print(workflow.__dict__)"
   ]
  },
  {
   "cell_type": "code",
   "execution_count": 5,
   "metadata": {},
   "outputs": [
    {
     "name": "stderr",
     "output_type": "stream",
     "text": [
      "INFO:root:POST https://inference.composition-labs.com/inference/runner/initrun: SUCCESS\n"
     ]
    }
   ],
   "source": [
    "# run the workflow\n",
    "\n",
    "# 1. initialize the run\n",
    "run = workflow.init_run(input=\"12313123, 12312312324, 12313, 123123123\")"
   ]
  },
  {
   "cell_type": "code",
   "execution_count": 6,
   "metadata": {},
   "outputs": [
    {
     "name": "stderr",
     "output_type": "stream",
     "text": [
      "INFO:root:POST https://inference.composition-labs.com/inference/runner/runstep: SUCCESS\n"
     ]
    },
    {
     "data": {
      "text/plain": [
       "<Status.SUCCESS: 'success'>"
      ]
     },
     "execution_count": 6,
     "metadata": {},
     "output_type": "execute_result"
    }
   ],
   "source": [
    "run.run()"
   ]
  },
  {
   "cell_type": "code",
   "execution_count": 7,
   "metadata": {},
   "outputs": [
    {
     "data": {
      "text/plain": [
       "{'0': {'input': None, 'output': '12313123, 12312312324, 12313, 123123123'},\n",
       " '1': {'input': 'A list of numbers: 12313123, 12312312324, 12313, 123123123',\n",
       "  'output': \"To calculate the sum of the numbers in the list, we will add them together:\\n\\n1. 12313123\\n2. 12312312324\\n3. 12313\\n4. 123123123\\n\\nNow, let's perform the addition step by step:\\n\\n- First, add the first two numbers:\\n  12313123 + 12312312324 = 12324425447\\n\\n- Next, add the third number:\\n  12324425447 + 12313 = 12324437760\\n\\n- Finally, add the last number:\\n  12324437760 + 123123123 = 12324560883\\n\\nThus, the total sum of all the numbers in the list is **12324560883**.\"}}"
      ]
     },
     "execution_count": 7,
     "metadata": {},
     "output_type": "execute_result"
    }
   ],
   "source": [
    "run.ios"
   ]
  },
  {
   "cell_type": "code",
   "execution_count": null,
   "metadata": {},
   "outputs": [],
   "source": []
  }
 ],
 "metadata": {
  "kernelspec": {
   "display_name": "venv",
   "language": "python",
   "name": "python3"
  },
  "language_info": {
   "codemirror_mode": {
    "name": "ipython",
    "version": 3
   },
   "file_extension": ".py",
   "mimetype": "text/x-python",
   "name": "python",
   "nbconvert_exporter": "python",
   "pygments_lexer": "ipython3",
   "version": "3.12.4"
  }
 },
 "nbformat": 4,
 "nbformat_minor": 2
}
