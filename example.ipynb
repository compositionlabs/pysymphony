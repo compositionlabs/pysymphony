{
 "cells": [
  {
   "cell_type": "markdown",
   "metadata": {},
   "source": [
    "# set SYMPHONY_API_KEY as an environment variable before importing pysymphony"
   ]
  },
  {
   "cell_type": "code",
   "execution_count": 2,
   "metadata": {},
   "outputs": [
    {
     "name": "stderr",
     "output_type": "stream",
     "text": [
      "INFO:root:GET https://inference.composition-labs.com/inference/tools/list: RUNNING\n",
      "INFO:root:GET https://inference.composition-labs.com/inference/tools/list: SUCCESS\n"
     ]
    }
   ],
   "source": [
    "from pysymphony import SymphonyClient, settings\n",
    "import logging\n",
    "\n",
    "# set logging level to INFO for basic logs\n",
    "logging.basicConfig(level=logging.INFO)\n",
    "\n",
    "# add a local tool\n",
    "# ensure to add a docstring for the tool description, and define the input parameter types\n",
    "def add_tool(a: int, b: int):\n",
    "    \"\"\"\n",
    "    Add two numbers\n",
    "    \"\"\"\n",
    "    print(f\"Adding {a} and {b}\")\n",
    "    return a + b\n",
    "\n",
    "settings.add_local_tool(add_tool)"
   ]
  },
  {
   "cell_type": "code",
   "execution_count": 3,
   "metadata": {},
   "outputs": [],
   "source": [
    "# initialize the symphony client\n",
    "client = SymphonyClient()"
   ]
  },
  {
   "cell_type": "code",
   "execution_count": 4,
   "metadata": {},
   "outputs": [
    {
     "data": {
      "text/plain": [
       "[{'id': 'pplx_online',\n",
       "  'name': 'Perplexity Online',\n",
       "  'description': 'Useful for getting internet enabled (access to internet) natural language answers to input queries without citations.',\n",
       "  'type': <ToolType.SYMPHONY: 'symphony'>},\n",
       " {'id': 'openai_img_to_text',\n",
       "  'name': 'OpenAI Image to Text',\n",
       "  'description': 'Useful for analyzing and describing images, detecting objects, and extracting text from images.',\n",
       "  'type': <ToolType.SYMPHONY: 'symphony'>},\n",
       " {'id': 'clinical_trials_gov_data_retriever',\n",
       "  'name': 'Clinical Trials Gov Data Retriever',\n",
       "  'description': 'Useful for retrieving a list of clinical studies for the pharma and biotech indistries, based on a given query, or details of a single clinical study based on a given NCT number. Pass studies_query to get a list of studies based on the query. Pass nct_id to get details of a single study. Never pass both studies_query and nct_id.',\n",
       "  'type': <ToolType.SYMPHONY: 'symphony'>},\n",
       " {'id': 'competitor_analysis_tool',\n",
       "  'name': 'Competition Tool',\n",
       "  'description': 'Takes in a company name and finds existing competitors from basic internet search.',\n",
       "  'type': <ToolType.CLIENT: 'client'>},\n",
       " {'id': 'competitor_analysis_tool_v2',\n",
       "  'name': 'Competition Tool',\n",
       "  'description': 'Takes in a company name and finds existing competitors from basic internet search.',\n",
       "  'type': <ToolType.CLIENT: 'client'>},\n",
       " {'id': 'add_tool',\n",
       "  'name': 'add_tool',\n",
       "  'description': 'Add two numbers',\n",
       "  'type': <ToolType.CLIENT: 'client'>}]"
      ]
     },
     "execution_count": 4,
     "metadata": {},
     "output_type": "execute_result"
    }
   ],
   "source": [
    "# check available tools\n",
    "client.tools"
   ]
  },
  {
   "cell_type": "code",
   "execution_count": 5,
   "metadata": {},
   "outputs": [
    {
     "name": "stderr",
     "output_type": "stream",
     "text": [
      "INFO:root:POST https://inference.composition-labs.com/inference/planner/generateworkflow: SUCCESS\n",
      "INFO:root:GET https://inference.composition-labs.com/inference/planner/getworkflows: RUNNING\n",
      "INFO:root:GET https://inference.composition-labs.com/inference/planner/getworkflows: SUCCESS\n"
     ]
    },
    {
     "name": "stdout",
     "output_type": "stream",
     "text": [
      "{'id': '7cf8b1bc-1dba-47ad-9e0f-badb22ba3c87', 'task_description': 'For the given list of numbers, add them all up', 'nodes': [{'id': '0ef73128-c8cf-48bd-8fc0-7af2f7d96e63', 'step_index': 1, 'input': 'A list of numbers', 'job': 'Sum all the numbers in the given list to produce a single total value.', 'output': 'The total sum of the numbers in the list', 'prompt': 'Given a list of numbers as input, use the add_tool to iteratively add each number in the list, ensuring that you accurately calculate and return a single numerical output representing the total sum of all the numbers in the list.', 'dependencies': [], 'created_at': '2024-10-08T02:04:17.883360', 'updated_at': '2024-10-08T02:04:17.883360', 'tools': [{'id': '1b8562a8-cda5-4514-929d-b819a30ab72e', 'unique_id': 'add_tool', 'name': 'add_tool', 'description': 'Add two numbers', 'tool_type': 'client', 'schema': {'properties': {'a': {'title': 'A', 'type': 'integer'}, 'b': {'title': 'B', 'type': 'integer'}}, 'required': ['a', 'b'], 'title': 'add_tool', 'type': 'object'}, 'is_private': True, 'belongs_to_id': '30dcbf49-8575-4de0-b78f-196ca341a256'}]}], 'runs': [], 'parameters': {}, 'session': <requests.sessions.Session object at 0x1202fe060>, 'tools': ['add_tool'], 'base_url': 'https://inference.composition-labs.com/inference'}\n"
     ]
    }
   ],
   "source": [
    "# generate a workflow\n",
    "\n",
    "# 1. define relevant parameters\n",
    "useful_tools = [\"add_tool\"]\n",
    "parameters = {\n",
    "    \"max_steps\": 1\n",
    "}\n",
    "task_description = \"For the given list of numbers, add them all up\"\n",
    "\n",
    "# 2. generate the workflow\n",
    "workflow = client.generate_workflow(task_description=task_description, tools=useful_tools, parameters=parameters)\n",
    "\n",
    "# print the workflow\n",
    "print(workflow.__dict__)"
   ]
  },
  {
   "cell_type": "code",
   "execution_count": 6,
   "metadata": {},
   "outputs": [
    {
     "name": "stderr",
     "output_type": "stream",
     "text": [
      "INFO:root:POST https://inference.composition-labs.com/inference/runner/initrun: SUCCESS\n"
     ]
    }
   ],
   "source": [
    "# run the workflow\n",
    "\n",
    "# 1. initialize the run\n",
    "run = workflow.init_run(input=\"12313123, 12312312324, 12313, 123123123\")"
   ]
  },
  {
   "cell_type": "code",
   "execution_count": 7,
   "metadata": {},
   "outputs": [
    {
     "name": "stderr",
     "output_type": "stream",
     "text": [
      "INFO:root:POST https://inference.composition-labs.com/inference/runner/runstep: SUCCESS\n"
     ]
    },
    {
     "name": "stdout",
     "output_type": "stream",
     "text": [
      "Adding 12313123 and 12312312324\n"
     ]
    },
    {
     "name": "stderr",
     "output_type": "stream",
     "text": [
      "INFO:root:POST https://inference.composition-labs.com/inference/runner/runstep: SUCCESS\n"
     ]
    },
    {
     "name": "stdout",
     "output_type": "stream",
     "text": [
      "Adding 12313123 and 12312312324\n",
      "Adding 12324625447 and 12313\n"
     ]
    },
    {
     "name": "stderr",
     "output_type": "stream",
     "text": [
      "INFO:root:POST https://inference.composition-labs.com/inference/runner/runstep: SUCCESS\n"
     ]
    },
    {
     "name": "stdout",
     "output_type": "stream",
     "text": [
      "Adding 12313123 and 12312312324\n",
      "Adding 12324625447 and 12313\n",
      "Adding 12324637760 and 123123123\n"
     ]
    },
    {
     "name": "stderr",
     "output_type": "stream",
     "text": [
      "INFO:root:POST https://inference.composition-labs.com/inference/runner/runstep: SUCCESS\n"
     ]
    },
    {
     "data": {
      "text/plain": [
       "<Status.SUCCESS: 'success'>"
      ]
     },
     "execution_count": 7,
     "metadata": {},
     "output_type": "execute_result"
    }
   ],
   "source": [
    "run.run()"
   ]
  },
  {
   "cell_type": "code",
   "execution_count": 8,
   "metadata": {},
   "outputs": [
    {
     "data": {
      "text/plain": [
       "{'0': {'input': None, 'output': '12313123, 12312312324, 12313, 123123123'},\n",
       " '1': {'input': 'A list of numbers: 12313123, 12312312324, 12313, 123123123',\n",
       "  'output': 'The total sum of the numbers in the list is 12,447,760,883.'}}"
      ]
     },
     "execution_count": 8,
     "metadata": {},
     "output_type": "execute_result"
    }
   ],
   "source": [
    "run.ios"
   ]
  },
  {
   "cell_type": "code",
   "execution_count": null,
   "metadata": {},
   "outputs": [],
   "source": []
  }
 ],
 "metadata": {
  "kernelspec": {
   "display_name": "venv",
   "language": "python",
   "name": "python3"
  },
  "language_info": {
   "codemirror_mode": {
    "name": "ipython",
    "version": 3
   },
   "file_extension": ".py",
   "mimetype": "text/x-python",
   "name": "python",
   "nbconvert_exporter": "python",
   "pygments_lexer": "ipython3",
   "version": "3.12.4"
  }
 },
 "nbformat": 4,
 "nbformat_minor": 2
}
