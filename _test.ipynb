{
 "cells": [
  {
   "cell_type": "code",
   "execution_count": 1,
   "metadata": {},
   "outputs": [
    {
     "name": "stderr",
     "output_type": "stream",
     "text": [
      "/Users/chinmayshrivastava/Documents/Github/pysymphony/venv/lib/python3.12/site-packages/pydantic/_internal/_fields.py:172: UserWarning: Field name \"schema\" in \"LocalTool\" shadows an attribute in parent \"BaseModel\"\n",
      "  warnings.warn(\n",
      "INFO:root:GET http://127.0.0.1:8000/inference/tools/list: RUNNING\n",
      "INFO:root:GET http://127.0.0.1:8000/inference/tools/list: SUCCESS\n"
     ]
    }
   ],
   "source": [
    "from pysymphony import SymphonyClient\n",
    "from pysymphony.settings import settings\n",
    "from dotenv import load_dotenv\n",
    "import os\n",
    "import logging\n",
    "\n",
    "logging.basicConfig(level=logging.INFO)\n",
    "\n",
    "load_dotenv()\n",
    "\n",
    "client = SymphonyClient()\n"
   ]
  },
  {
   "cell_type": "code",
   "execution_count": 2,
   "metadata": {},
   "outputs": [
    {
     "data": {
      "text/plain": [
       "[{'id': 'pplx_online',\n",
       "  'name': 'Perplexity Online',\n",
       "  'description': 'Useful for getting internet enabled (access to internet) natural language answers to input queries without citations.',\n",
       "  'type': <ToolType.SYMPHONY: 'symphony'>},\n",
       " {'id': 'openai_img_to_text',\n",
       "  'name': 'OpenAI Image to Text',\n",
       "  'description': 'Useful for analyzing and describing images, detecting objects, and extracting text from images.',\n",
       "  'type': <ToolType.SYMPHONY: 'symphony'>},\n",
       " {'id': 'clinical_trials_gov_data_retriever',\n",
       "  'name': 'Clinical Trials Gov Data Retriever',\n",
       "  'description': 'Useful for retrieving a list of clinical studies for the pharma and biotech indistries, based on a given query, or details of a single clinical study based on a given NCT number. Pass studies_query to get a list of studies based on the query. Pass nct_id to get details of a single study. Never pass both studies_query and nct_id.',\n",
       "  'type': <ToolType.SYMPHONY: 'symphony'>},\n",
       " {'id': 'competitor_analysis_tool',\n",
       "  'name': 'Competition Tool',\n",
       "  'description': 'Takes in a company name and finds existing competitors from basic internet search.',\n",
       "  'type': <ToolType.CLIENT: 'client'>},\n",
       " {'id': 'competitor_analysis_tool_v2',\n",
       "  'name': 'Competition Tool',\n",
       "  'description': 'Takes in a company name and finds existing competitors from basic internet search.',\n",
       "  'type': <ToolType.CLIENT: 'client'>},\n",
       " {'id': 'add_tool',\n",
       "  'name': 'add_tool',\n",
       "  'description': 'Add two numbers',\n",
       "  'type': <ToolType.CLIENT: 'client'>}]"
      ]
     },
     "execution_count": 2,
     "metadata": {},
     "output_type": "execute_result"
    }
   ],
   "source": [
    "client.tools"
   ]
  },
  {
   "cell_type": "code",
   "execution_count": 3,
   "metadata": {},
   "outputs": [
    {
     "data": {
      "text/plain": [
       "[{'id': 'pplx_online',\n",
       "  'name': 'Perplexity Online',\n",
       "  'description': 'Useful for getting internet enabled (access to internet) natural language answers to input queries without citations.',\n",
       "  'type': <ToolType.SYMPHONY: 'symphony'>},\n",
       " {'id': 'openai_img_to_text',\n",
       "  'name': 'OpenAI Image to Text',\n",
       "  'description': 'Useful for analyzing and describing images, detecting objects, and extracting text from images.',\n",
       "  'type': <ToolType.SYMPHONY: 'symphony'>},\n",
       " {'id': 'clinical_trials_gov_data_retriever',\n",
       "  'name': 'Clinical Trials Gov Data Retriever',\n",
       "  'description': 'Useful for retrieving a list of clinical studies for the pharma and biotech indistries, based on a given query, or details of a single clinical study based on a given NCT number. Pass studies_query to get a list of studies based on the query. Pass nct_id to get details of a single study. Never pass both studies_query and nct_id.',\n",
       "  'type': <ToolType.SYMPHONY: 'symphony'>},\n",
       " {'id': 'competitor_analysis_tool',\n",
       "  'name': 'Competition Tool',\n",
       "  'description': 'Takes in a company name and finds existing competitors from basic internet search.',\n",
       "  'type': <ToolType.CLIENT: 'client'>},\n",
       " {'id': 'competitor_analysis_tool_v2',\n",
       "  'name': 'Competition Tool',\n",
       "  'description': 'Takes in a company name and finds existing competitors from basic internet search.',\n",
       "  'type': <ToolType.CLIENT: 'client'>},\n",
       " {'id': 'add_tool',\n",
       "  'name': 'add_tool',\n",
       "  'description': 'Add two numbers',\n",
       "  'type': <ToolType.CLIENT: 'client'>}]"
      ]
     },
     "execution_count": 3,
     "metadata": {},
     "output_type": "execute_result"
    }
   ],
   "source": [
    "from pysymphony.settings import settings\n",
    "\n",
    "def add_tool(a: int, b: int):\n",
    "    \"\"\"\n",
    "    Add two numbers\n",
    "    \"\"\"\n",
    "    return a + b\n",
    "\n",
    "settings.add_local_tool(add_tool)\n",
    "client.tools"
   ]
  },
  {
   "cell_type": "code",
   "execution_count": 4,
   "metadata": {},
   "outputs": [
    {
     "name": "stdout",
     "output_type": "stream",
     "text": [
      "Workflow(id=d8dd07e9-3ce0-4dff-a65f-7b872bb8f580, task_description=None)\n"
     ]
    }
   ],
   "source": [
    "from pysymphony.workflows import Workflow\n",
    "\n",
    "task = \"Given two numbers, add them using the add tool\"\n",
    "parameters = {\n",
    "    \"max_steps\": 1\n",
    "}\n",
    "useful_tools = [\"add_tool\"]\n",
    "\n",
    "# workflow = client.generate_workflow(task, parameters, useful_tools)\n",
    "workflow = Workflow(\n",
    "    id=\"d8dd07e9-3ce0-4dff-a65f-7b872bb8f580\"\n",
    ")\n",
    "print(workflow)"
   ]
  },
  {
   "cell_type": "code",
   "execution_count": 5,
   "metadata": {},
   "outputs": [
    {
     "name": "stderr",
     "output_type": "stream",
     "text": [
      "INFO:root:POST http://127.0.0.1:8000/inference/runner/initrun: SUCCESS\n"
     ]
    }
   ],
   "source": [
    "run = workflow.init_run(input=\"find the sum of 475867548 and 387465\")"
   ]
  },
  {
   "cell_type": "code",
   "execution_count": 10,
   "metadata": {},
   "outputs": [
    {
     "name": "stderr",
     "output_type": "stream",
     "text": [
      "INFO:root:POST http://127.0.0.1:8000/inference/runner/runstep: SUCCESS\n"
     ]
    }
   ],
   "source": [
    "run.run_step()"
   ]
  },
  {
   "cell_type": "code",
   "execution_count": 11,
   "metadata": {},
   "outputs": [
    {
     "data": {
      "text/plain": [
       "<Status.SUCCESS: 'success'>"
      ]
     },
     "execution_count": 11,
     "metadata": {},
     "output_type": "execute_result"
    }
   ],
   "source": [
    "run.status"
   ]
  },
  {
   "cell_type": "code",
   "execution_count": 12,
   "metadata": {},
   "outputs": [],
   "source": [
    "run.tool_calls"
   ]
  },
  {
   "cell_type": "code",
   "execution_count": 13,
   "metadata": {},
   "outputs": [
    {
     "data": {
      "text/plain": [
       "{'0': {'input': None, 'output': 'find the sum of 475867548 and 387465'},\n",
       " '1': {'input': 'Two numbers to be added: find the sum of 475867548 and 387465',\n",
       "  'output': 'The sum of 475867548 and 387465 is 476255013.'}}"
      ]
     },
     "execution_count": 13,
     "metadata": {},
     "output_type": "execute_result"
    }
   ],
   "source": [
    "run.ios"
   ]
  },
  {
   "cell_type": "code",
   "execution_count": null,
   "metadata": {},
   "outputs": [],
   "source": []
  }
 ],
 "metadata": {
  "kernelspec": {
   "display_name": "venv",
   "language": "python",
   "name": "python3"
  },
  "language_info": {
   "codemirror_mode": {
    "name": "ipython",
    "version": 3
   },
   "file_extension": ".py",
   "mimetype": "text/x-python",
   "name": "python",
   "nbconvert_exporter": "python",
   "pygments_lexer": "ipython3",
   "version": "3.12.4"
  }
 },
 "nbformat": 4,
 "nbformat_minor": 2
}
