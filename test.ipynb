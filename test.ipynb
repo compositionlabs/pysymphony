{
 "cells": [
  {
   "cell_type": "code",
   "execution_count": 1,
   "metadata": {},
   "outputs": [
    {
     "name": "stderr",
     "output_type": "stream",
     "text": [
      "INFO:root:GET http://127.0.0.1:8000/inference/tools/list: RUNNING\n",
      "INFO:root:GET http://127.0.0.1:8000/inference/tools/list: SUCCESS\n"
     ]
    }
   ],
   "source": [
    "from pysymphony import SymphonyClient\n",
    "from dotenv import load_dotenv\n",
    "import logging\n",
    "\n",
    "logging.basicConfig(level=logging.INFO)\n",
    "load_dotenv()\n",
    "\n",
    "client = SymphonyClient()"
   ]
  },
  {
   "cell_type": "code",
   "execution_count": 2,
   "metadata": {},
   "outputs": [
    {
     "data": {
      "text/plain": [
       "[{'id': 'pplx_online',\n",
       "  'name': 'Perplexity Online',\n",
       "  'description': 'Useful for getting internet enabled (access to internet) natural language answers to input queries without citations.',\n",
       "  'type': <ToolType.SYMPHONY: 'symphony'>},\n",
       " {'id': 'openai_img_to_text',\n",
       "  'name': 'OpenAI Image to Text',\n",
       "  'description': 'Useful for analyzing and describing images, detecting objects, and extracting text from images.',\n",
       "  'type': <ToolType.SYMPHONY: 'symphony'>},\n",
       " {'id': 'clinical_trials_gov_data_retriever',\n",
       "  'name': 'Clinical Trials Gov Data Retriever',\n",
       "  'description': 'Useful for retrieving a list of clinical studies for the pharma and biotech indistries, based on a given query, or details of a single clinical study based on a given NCT number. Pass studies_query to get a list of studies based on the query. Pass nct_id to get details of a single study. Never pass both studies_query and nct_id.',\n",
       "  'type': <ToolType.SYMPHONY: 'symphony'>}]"
      ]
     },
     "execution_count": 2,
     "metadata": {},
     "output_type": "execute_result"
    }
   ],
   "source": [
    "client.tools"
   ]
  },
  {
   "cell_type": "code",
   "execution_count": 3,
   "metadata": {},
   "outputs": [
    {
     "name": "stderr",
     "output_type": "stream",
     "text": [
      "INFO:root:POST http://127.0.0.1:8000/inference/tools/add: SUCCESS\n"
     ]
    }
   ],
   "source": [
    "from pysymphony.settings import settings\n",
    "\n",
    "def add_tool(a: int, b: int):\n",
    "    \"\"\"\n",
    "    Add two numbers\n",
    "    \"\"\"\n",
    "    print(f\"`add_tool` tool called on the client side with inputs {a} and {b}\")\n",
    "    return a + b\n",
    "\n",
    "settings.add_local_tool(add_tool)"
   ]
  },
  {
   "cell_type": "code",
   "execution_count": 4,
   "metadata": {},
   "outputs": [
    {
     "data": {
      "text/plain": [
       "[{'id': 'pplx_online',\n",
       "  'name': 'Perplexity Online',\n",
       "  'description': 'Useful for getting internet enabled (access to internet) natural language answers to input queries without citations.',\n",
       "  'type': <ToolType.SYMPHONY: 'symphony'>},\n",
       " {'id': 'openai_img_to_text',\n",
       "  'name': 'OpenAI Image to Text',\n",
       "  'description': 'Useful for analyzing and describing images, detecting objects, and extracting text from images.',\n",
       "  'type': <ToolType.SYMPHONY: 'symphony'>},\n",
       " {'id': 'clinical_trials_gov_data_retriever',\n",
       "  'name': 'Clinical Trials Gov Data Retriever',\n",
       "  'description': 'Useful for retrieving a list of clinical studies for the pharma and biotech indistries, based on a given query, or details of a single clinical study based on a given NCT number. Pass studies_query to get a list of studies based on the query. Pass nct_id to get details of a single study. Never pass both studies_query and nct_id.',\n",
       "  'type': <ToolType.SYMPHONY: 'symphony'>},\n",
       " {'id': 'add_tool',\n",
       "  'name': 'add_tool',\n",
       "  'description': 'Add two numbers',\n",
       "  'type': <ToolType.CLIENT: 'client'>}]"
      ]
     },
     "execution_count": 4,
     "metadata": {},
     "output_type": "execute_result"
    }
   ],
   "source": [
    "client.tools"
   ]
  },
  {
   "cell_type": "code",
   "execution_count": 5,
   "metadata": {},
   "outputs": [
    {
     "name": "stderr",
     "output_type": "stream",
     "text": [
      "INFO:root:POST http://127.0.0.1:8000/inference/planner/generateworkflow: SUCCESS\n",
      "INFO:root:GET http://127.0.0.1:8000/inference/planner/getworkflows: RUNNING\n",
      "INFO:root:GET http://127.0.0.1:8000/inference/planner/getworkflows: SUCCESS\n"
     ]
    },
    {
     "name": "stdout",
     "output_type": "stream",
     "text": [
      "Workflow(id=e9e384de-e186-4564-bbdb-7fa9d832350f, task_description=Given a list of numbers, return the sum of the numbers.)\n"
     ]
    }
   ],
   "source": [
    "from pysymphony.workflows import Workflow\n",
    "\n",
    "task = (\n",
    "    \"Given a list of numbers, return the sum of the numbers.\"\n",
    ")\n",
    "parameters = {\n",
    "    \"max_steps\": 1\n",
    "}\n",
    "useful_tools = [\"add_tool\"]\n",
    "workflow = client.generate_workflow(task, parameters, useful_tools)\n",
    "print(workflow)"
   ]
  },
  {
   "cell_type": "code",
   "execution_count": 6,
   "metadata": {},
   "outputs": [
    {
     "name": "stderr",
     "output_type": "stream",
     "text": [
      "INFO:root:POST http://127.0.0.1:8000/inference/runner/initrun: SUCCESS\n"
     ]
    }
   ],
   "source": [
    "run = workflow.init_run(input=\"12312413312312, 12312312312, 12312312, 123123\")"
   ]
  },
  {
   "cell_type": "code",
   "execution_count": 7,
   "metadata": {},
   "outputs": [
    {
     "name": "stderr",
     "output_type": "stream",
     "text": [
      "INFO:root:POST http://127.0.0.1:8000/inference/runner/runstep: SUCCESS\n"
     ]
    },
    {
     "name": "stdout",
     "output_type": "stream",
     "text": [
      "`add_tool` tool called on the client side with inputs 12312413312312 and 12312312312\n"
     ]
    },
    {
     "name": "stderr",
     "output_type": "stream",
     "text": [
      "INFO:root:POST http://127.0.0.1:8000/inference/runner/runstep: SUCCESS\n"
     ]
    },
    {
     "name": "stdout",
     "output_type": "stream",
     "text": [
      "`add_tool` tool called on the client side with inputs 12312413312312 and 12312312312\n",
      "`add_tool` tool called on the client side with inputs 12324725624624 and 12312312\n"
     ]
    },
    {
     "name": "stderr",
     "output_type": "stream",
     "text": [
      "INFO:root:POST http://127.0.0.1:8000/inference/runner/runstep: SUCCESS\n"
     ]
    },
    {
     "name": "stdout",
     "output_type": "stream",
     "text": [
      "`add_tool` tool called on the client side with inputs 12312413312312 and 12312312312\n",
      "`add_tool` tool called on the client side with inputs 12324725624624 and 12312312\n",
      "`add_tool` tool called on the client side with inputs 12324737936936 and 123123\n"
     ]
    },
    {
     "name": "stderr",
     "output_type": "stream",
     "text": [
      "INFO:root:POST http://127.0.0.1:8000/inference/runner/runstep: SUCCESS\n"
     ]
    },
    {
     "data": {
      "text/plain": [
       "<Status.SUCCESS: 'success'>"
      ]
     },
     "execution_count": 7,
     "metadata": {},
     "output_type": "execute_result"
    }
   ],
   "source": [
    "run.run()"
   ]
  },
  {
   "cell_type": "code",
   "execution_count": 8,
   "metadata": {},
   "outputs": [
    {
     "data": {
      "text/plain": [
       "{'0': {'input': None,\n",
       "  'output': '12312413312312, 12312312312, 12312312, 123123'},\n",
       " '1': {'input': 'A list of numbers: 12312413312312, 12312312312, 12312312, 123123',\n",
       "  'output': 'The total sum of the numbers 12312413312312, 12312312312, 12312312, and 123123 is 12324738060059.'}}"
      ]
     },
     "execution_count": 8,
     "metadata": {},
     "output_type": "execute_result"
    }
   ],
   "source": [
    "run.ios"
   ]
  },
  {
   "cell_type": "code",
   "execution_count": 9,
   "metadata": {},
   "outputs": [
    {
     "name": "stderr",
     "output_type": "stream",
     "text": [
      "INFO:root:POST http://127.0.0.1:8000/inference/planner/generateworkflow: SUCCESS\n"
     ]
    },
    {
     "name": "stdout",
     "output_type": "stream",
     "text": [
      "Workflow(id=0cbc3b5e-753f-4779-bb5c-4c9e952b0009, task_description=Given a company name, find the competitors and the founder's background and output a json of the information.)\n"
     ]
    }
   ],
   "source": [
    "from pysymphony.workflows import Workflow\n",
    "\n",
    "task = (\n",
    "    \"Given a company name, find the competitors and the founder's background and output a json of the information.\"\n",
    ")\n",
    "parameters = {\n",
    "    \"max_steps\": 3\n",
    "}\n",
    "useful_tools = [\"pplx_online\"]\n",
    "workflow = client.generate_workflow(task, parameters, useful_tools)\n",
    "print(workflow)"
   ]
  },
  {
   "cell_type": "code",
   "execution_count": 10,
   "metadata": {},
   "outputs": [
    {
     "name": "stderr",
     "output_type": "stream",
     "text": [
      "INFO:root:POST http://127.0.0.1:8000/inference/runner/initrun: SUCCESS\n",
      "INFO:root:POST http://127.0.0.1:8000/inference/runner/runstep: SUCCESS\n",
      "INFO:root:POST http://127.0.0.1:8000/inference/runner/runstep: SUCCESS\n",
      "INFO:root:POST http://127.0.0.1:8000/inference/runner/runstep: SUCCESS\n"
     ]
    },
    {
     "data": {
      "text/plain": [
       "{'0': {'input': None, 'output': 'Coinbase'},\n",
       " '1': {'input': 'Company name: Coinbase',\n",
       "  'output': '```json\\n{\\n  \"company\": \"Coinbase\",\\n  \"competitors\": [\\n    {\\n      \"name\": \"Binance\",\\n      \"description\": \"A global giant in cryptocurrency trading, offering a diverse range of cryptocurrencies and low fees.\"\\n    },\\n    {\\n      \"name\": \"Kraken\",\\n      \"description\": \"One of the largest Bitcoin exchanges in terms of euro volume and liquidity, supporting multiple fiat currencies.\"\\n    },\\n    {\\n      \"name\": \"Gemini\",\\n      \"description\": \"Prioritizes security and regulatory compliance, making it a reliable choice for users.\"\\n    },\\n    {\\n      \"name\": \"KuCoin\",\\n      \"description\": \"A centralized cryptocurrency exchange serving international markets with a wide range of digital assets.\"\\n    },\\n    {\\n      \"name\": \"LocalBitcoins\",\\n      \"description\": \"A person-to-person bitcoin trading site, allowing users to trade cryptocurrencies directly with each other.\"\\n    },\\n    {\\n      \"name\": \"NiceHash\",\\n      \"description\": \"Operates on the concept of a sharing economy, connecting sellers and buyers of computing power.\"\\n    },\\n    {\\n      \"name\": \"Bittrex\",\\n      \"description\": \"A U.S.-based blockchain platform providing real-time trading and industry-leading security.\"\\n    },\\n    {\\n      \"name\": \"eToro\",\\n      \"description\": \"Excels in social trading features, allowing users to replicate the strategies of proven traders.\"\\n    },\\n    {\\n      \"name\": \"Poloniex\",\\n      \"description\": \"A leading cryptocurrency exchange offering a wide variety of digital assets for trading.\"\\n    },\\n    {\\n      \"name\": \"Blockchain\",\\n      \"description\": \"Specializes in blockchain technology and cryptocurrency-related solutions.\"\\n    },\\n    {\\n      \"name\": \"Circle\",\\n      \"description\": \"Provides financial technology solutions for global fund transfers and crypto treasury management.\"\\n    },\\n    {\\n      \"name\": \"BlockFi\",\\n      \"description\": \"Focuses on building products for cryptocurrencies, including interest-earning accounts and loan security.\"\\n    },\\n    {\\n      \"name\": \"CoinZoom\",\\n      \"description\": \"Offers a platform for buying, selling, and trading cryptocurrencies with a focus on user experience.\"\\n    },\\n    {\\n      \"name\": \"CoinDCX\",\\n      \"description\": \"Provides a cryptocurrency investment platform with a focus on user experience.\"\\n    },\\n    {\\n      \"name\": \"FTX\",\\n      \"description\": \"Operates as a cryptocurrency exchange platform offering derivatives, options, and volatility products.\"\\n    },\\n    {\\n      \"name\": \"BitPay\",\\n      \"description\": \"Develops software tools for businesses to collect payments through peer-to-peer payment networks.\"\\n    }\\n  ]\\n}\\n```'},\n",
       " '2': {'input': 'Company name: Coinbase',\n",
       "  'output': 'Here is the structured JSON format containing the competitors of Coinbase and detailed background information about its founder, Brian Armstrong:\\n\\n```json\\n{\\n  \"competitors\": [\\n    {\\n      \"name\": \"Binance\",\\n      \"description\": \"The largest cryptocurrency exchange in the world, offering a wide range of cryptocurrencies and fiat currencies.\"\\n    },\\n    {\\n      \"name\": \"Kraken\",\\n      \"description\": \"One of the most trusted cryptocurrency exchanges, known for its security and efficiency.\"\\n    },\\n    {\\n      \"name\": \"Gemini\",\\n      \"description\": \"A cryptocurrency exchange with a strong emphasis on security and regulatory compliance.\"\\n    },\\n    {\\n      \"name\": \"eToro\",\\n      \"description\": \"A platform offering social trading features, allowing users to replicate the strategies of successful traders.\"\\n    },\\n    {\\n      \"name\": \"Crypto.com\",\\n      \"description\": \"Offers a wide range of cryptocurrencies and services for buying, selling, and trading digital assets.\"\\n    },\\n    {\\n      \"name\": \"BitPay\",\\n      \"description\": \"Specializes in cryptocurrency-based payments and receivables.\"\\n    },\\n    {\\n      \"name\": \"BlockFi\",\\n      \"description\": \"A financial services company focusing on building products for cryptocurrencies.\"\\n    },\\n    {\\n      \"name\": \"CoinZoom\",\\n      \"description\": \"Provides a platform for buying, selling, and trading cryptocurrencies.\"\\n    },\\n    {\\n      \"name\": \"CoinDCX\",\\n      \"description\": \"A crypto investment platform focusing on user experience.\"\\n    },\\n    {\\n      \"name\": \"FTX\",\\n      \"description\": \"A cryptocurrency exchange platform offering derivatives, options, and volatility products.\"\\n    }\\n  ],\\n  \"founder\": {\\n    \"name\": \"Brian Armstrong\",\\n    \"birth_date\": \"January 25, 1983\",\\n    \"education\": {\\n      \"undergraduate\": {\\n        \"degree\": \"Bachelor\\'s in Economics and Computer Science\",\\n        \"institution\": \"Rice University\",\\n        \"year\": 2005\\n      },\\n      \"graduate\": {\\n        \"degree\": \"Master\\'s in Computer Science\",\\n        \"institution\": \"Rice University\",\\n        \"year\": 2006\\n      }\\n    },\\n    \"previous_work_experience\": [\\n      {\\n        \"company\": \"IBM\",\\n        \"role\": \"Developer Intern\"\\n      },\\n      {\\n        \"company\": \"Deloitte\",\\n        \"role\": \"Consultant in Enterprise Risk Management\"\\n      },\\n      {\\n        \"company\": \"Airbnb\",\\n        \"role\": \"Software Engineer\"\\n      }\\n    ],\\n    \"notable_achievements\": [\\n      {\\n        \"achievement\": \"Founded Coinbase in 2012\",\\n        \"details\": \"Received $150,000 funding from Y Combinator.\"\\n      },\\n      {\\n        \"achievement\": \"Launched GiveCrypto.org in 2018\",\\n        \"details\": \"A nonprofit aimed at distributing cryptocurrency globally.\"\\n      },\\n      {\\n        \"achievement\": \"Signed the Giving Pledge in 2018\",\\n        \"details\": \"Committed to giving away the bulk of his wealth to charitable causes.\"\\n      },\\n      {\\n        \"achievement\": \"Led Coinbase to a public listing on NASDAQ in 2021\",\\n        \"details\": \"Significant growth and recognition in the cryptocurrency industry.\"\\n      }\\n    ],\\n    \"net_worth\": \"$7.4 billion (as of 2024)\"\\n  }\\n}\\n```'},\n",
       " '3': {'input': 'List of competitors for the given company.: ```json\\n{\\n  \"company\": \"Coinbase\",\\n  \"competitors\": [\\n    {\\n      \"name\": \"Binance\",\\n      \"description\": \"A global giant in cryptocurrency trading, offering a diverse range of cryptocurrencies and low fees.\"\\n    },\\n    {\\n      \"name\": \"Kraken\",\\n      \"description\": \"One of the largest Bitcoin exchanges in terms of euro volume and liquidity, supporting multiple fiat currencies.\"\\n    },\\n    {\\n      \"name\": \"Gemini\",\\n      \"description\": \"Prioritizes security and regulatory compliance, making it a reliable choice for users.\"\\n    },\\n    {\\n      \"name\": \"KuCoin\",\\n      \"description\": \"A centralized cryptocurrency exchange serving international markets with a wide range of digital assets.\"\\n    },\\n    {\\n      \"name\": \"LocalBitcoins\",\\n      \"description\": \"A person-to-person bitcoin trading site, allowing users to trade cryptocurrencies directly with each other.\"\\n    },\\n    {\\n      \"name\": \"NiceHash\",\\n      \"description\": \"Operates on the concept of a sharing economy, connecting sellers and buyers of computing power.\"\\n    },\\n    {\\n      \"name\": \"Bittrex\",\\n      \"description\": \"A U.S.-based blockchain platform providing real-time trading and industry-leading security.\"\\n    },\\n    {\\n      \"name\": \"eToro\",\\n      \"description\": \"Excels in social trading features, allowing users to replicate the strategies of proven traders.\"\\n    },\\n    {\\n      \"name\": \"Poloniex\",\\n      \"description\": \"A leading cryptocurrency exchange offering a wide variety of digital assets for trading.\"\\n    },\\n    {\\n      \"name\": \"Blockchain\",\\n      \"description\": \"Specializes in blockchain technology and cryptocurrency-related solutions.\"\\n    },\\n    {\\n      \"name\": \"Circle\",\\n      \"description\": \"Provides financial technology solutions for global fund transfers and crypto treasury management.\"\\n    },\\n    {\\n      \"name\": \"BlockFi\",\\n      \"description\": \"Focuses on building products for cryptocurrencies, including interest-earning accounts and loan security.\"\\n    },\\n    {\\n      \"name\": \"CoinZoom\",\\n      \"description\": \"Offers a platform for buying, selling, and trading cryptocurrencies with a focus on user experience.\"\\n    },\\n    {\\n      \"name\": \"CoinDCX\",\\n      \"description\": \"Provides a cryptocurrency investment platform with a focus on user experience.\"\\n    },\\n    {\\n      \"name\": \"FTX\",\\n      \"description\": \"Operates as a cryptocurrency exchange platform offering derivatives, options, and volatility products.\"\\n    },\\n    {\\n      \"name\": \"BitPay\",\\n      \"description\": \"Develops software tools for businesses to collect payments through peer-to-peer payment networks.\"\\n    }\\n  ]\\n}\\n```\\nBackground information of the company\\'s founder.: Here is the structured JSON format containing the competitors of Coinbase and detailed background information about its founder, Brian Armstrong:\\n\\n```json\\n{\\n  \"competitors\": [\\n    {\\n      \"name\": \"Binance\",\\n      \"description\": \"The largest cryptocurrency exchange in the world, offering a wide range of cryptocurrencies and fiat currencies.\"\\n    },\\n    {\\n      \"name\": \"Kraken\",\\n      \"description\": \"One of the most trusted cryptocurrency exchanges, known for its security and efficiency.\"\\n    },\\n    {\\n      \"name\": \"Gemini\",\\n      \"description\": \"A cryptocurrency exchange with a strong emphasis on security and regulatory compliance.\"\\n    },\\n    {\\n      \"name\": \"eToro\",\\n      \"description\": \"A platform offering social trading features, allowing users to replicate the strategies of successful traders.\"\\n    },\\n    {\\n      \"name\": \"Crypto.com\",\\n      \"description\": \"Offers a wide range of cryptocurrencies and services for buying, selling, and trading digital assets.\"\\n    },\\n    {\\n      \"name\": \"BitPay\",\\n      \"description\": \"Specializes in cryptocurrency-based payments and receivables.\"\\n    },\\n    {\\n      \"name\": \"BlockFi\",\\n      \"description\": \"A financial services company focusing on building products for cryptocurrencies.\"\\n    },\\n    {\\n      \"name\": \"CoinZoom\",\\n      \"description\": \"Provides a platform for buying, selling, and trading cryptocurrencies.\"\\n    },\\n    {\\n      \"name\": \"CoinDCX\",\\n      \"description\": \"A crypto investment platform focusing on user experience.\"\\n    },\\n    {\\n      \"name\": \"FTX\",\\n      \"description\": \"A cryptocurrency exchange platform offering derivatives, options, and volatility products.\"\\n    }\\n  ],\\n  \"founder\": {\\n    \"name\": \"Brian Armstrong\",\\n    \"birth_date\": \"January 25, 1983\",\\n    \"education\": {\\n      \"undergraduate\": {\\n        \"degree\": \"Bachelor\\'s in Economics and Computer Science\",\\n        \"institution\": \"Rice University\",\\n        \"year\": 2005\\n      },\\n      \"graduate\": {\\n        \"degree\": \"Master\\'s in Computer Science\",\\n        \"institution\": \"Rice University\",\\n        \"year\": 2006\\n      }\\n    },\\n    \"previous_work_experience\": [\\n      {\\n        \"company\": \"IBM\",\\n        \"role\": \"Developer Intern\"\\n      },\\n      {\\n        \"company\": \"Deloitte\",\\n        \"role\": \"Consultant in Enterprise Risk Management\"\\n      },\\n      {\\n        \"company\": \"Airbnb\",\\n        \"role\": \"Software Engineer\"\\n      }\\n    ],\\n    \"notable_achievements\": [\\n      {\\n        \"achievement\": \"Founded Coinbase in 2012\",\\n        \"details\": \"Received $150,000 funding from Y Combinator.\"\\n      },\\n      {\\n        \"achievement\": \"Launched GiveCrypto.org in 2018\",\\n        \"details\": \"A nonprofit aimed at distributing cryptocurrency globally.\"\\n      },\\n      {\\n        \"achievement\": \"Signed the Giving Pledge in 2018\",\\n        \"details\": \"Committed to giving away the bulk of his wealth to charitable causes.\"\\n      },\\n      {\\n        \"achievement\": \"Led Coinbase to a public listing on NASDAQ in 2021\",\\n        \"details\": \"Significant growth and recognition in the cryptocurrency industry.\"\\n      }\\n    ],\\n    \"net_worth\": \"$7.4 billion (as of 2024)\"\\n  }\\n}\\n```\\nOutputs from steps 1 and 2: Here is the structured JSON format containing the competitors of Coinbase and detailed background information about its founder, Brian Armstrong:\\n\\n```json\\n{\\n  \"competitors\": [\\n    {\\n      \"name\": \"Binance\",\\n      \"description\": \"The largest cryptocurrency exchange in the world, offering a wide range of cryptocurrencies and fiat currencies.\"\\n    },\\n    {\\n      \"name\": \"Kraken\",\\n      \"description\": \"One of the most trusted cryptocurrency exchanges, known for its security and efficiency.\"\\n    },\\n    {\\n      \"name\": \"Gemini\",\\n      \"description\": \"A cryptocurrency exchange with a strong emphasis on security and regulatory compliance.\"\\n    },\\n    {\\n      \"name\": \"eToro\",\\n      \"description\": \"A platform offering social trading features, allowing users to replicate the strategies of successful traders.\"\\n    },\\n    {\\n      \"name\": \"Crypto.com\",\\n      \"description\": \"Offers a wide range of cryptocurrencies and services for buying, selling, and trading digital assets.\"\\n    },\\n    {\\n      \"name\": \"BitPay\",\\n      \"description\": \"Specializes in cryptocurrency-based payments and receivables.\"\\n    },\\n    {\\n      \"name\": \"BlockFi\",\\n      \"description\": \"A financial services company focusing on building products for cryptocurrencies.\"\\n    },\\n    {\\n      \"name\": \"CoinZoom\",\\n      \"description\": \"Provides a platform for buying, selling, and trading cryptocurrencies.\"\\n    },\\n    {\\n      \"name\": \"CoinDCX\",\\n      \"description\": \"A crypto investment platform focusing on user experience.\"\\n    },\\n    {\\n      \"name\": \"FTX\",\\n      \"description\": \"A cryptocurrency exchange platform offering derivatives, options, and volatility products.\"\\n    }\\n  ],\\n  \"founder\": {\\n    \"name\": \"Brian Armstrong\",\\n    \"birth_date\": \"January 25, 1983\",\\n    \"education\": {\\n      \"undergraduate\": {\\n        \"degree\": \"Bachelor\\'s in Economics and Computer Science\",\\n        \"institution\": \"Rice University\",\\n        \"year\": 2005\\n      },\\n      \"graduate\": {\\n        \"degree\": \"Master\\'s in Computer Science\",\\n        \"institution\": \"Rice University\",\\n        \"year\": 2006\\n      }\\n    },\\n    \"previous_work_experience\": [\\n      {\\n        \"company\": \"IBM\",\\n        \"role\": \"Developer Intern\"\\n      },\\n      {\\n        \"company\": \"Deloitte\",\\n        \"role\": \"Consultant in Enterprise Risk Management\"\\n      },\\n      {\\n        \"company\": \"Airbnb\",\\n        \"role\": \"Software Engineer\"\\n      }\\n    ],\\n    \"notable_achievements\": [\\n      {\\n        \"achievement\": \"Founded Coinbase in 2012\",\\n        \"details\": \"Received $150,000 funding from Y Combinator.\"\\n      },\\n      {\\n        \"achievement\": \"Launched GiveCrypto.org in 2018\",\\n        \"details\": \"A nonprofit aimed at distributing cryptocurrency globally.\"\\n      },\\n      {\\n        \"achievement\": \"Signed the Giving Pledge in 2018\",\\n        \"details\": \"Committed to giving away the bulk of his wealth to charitable causes.\"\\n      },\\n      {\\n        \"achievement\": \"Led Coinbase to a public listing on NASDAQ in 2021\",\\n        \"details\": \"Significant growth and recognition in the cryptocurrency industry.\"\\n      }\\n    ],\\n    \"net_worth\": \"$7.4 billion (as of 2024)\"\\n  }\\n}\\n```',\n",
       "  'output': 'Here is the structured JSON format containing the competitors of Coinbase and detailed background information about its founder, Brian Armstrong:\\n\\n```json\\n{\\n  \"competitors\": [\\n    {\\n      \"name\": \"Binance\",\\n      \"description\": \"A global giant in cryptocurrency trading, offering a diverse range of cryptocurrencies and low fees.\"\\n    },\\n    {\\n      \"name\": \"Kraken\",\\n      \"description\": \"One of the largest Bitcoin exchanges in terms of euro volume and liquidity, supporting multiple fiat currencies.\"\\n    },\\n    {\\n      \"name\": \"Gemini\",\\n      \"description\": \"Prioritizes security and regulatory compliance, making it a reliable choice for users.\"\\n    },\\n    {\\n      \"name\": \"KuCoin\",\\n      \"description\": \"A centralized cryptocurrency exchange serving international markets with a wide range of digital assets.\"\\n    },\\n    {\\n      \"name\": \"LocalBitcoins\",\\n      \"description\": \"A person-to-person bitcoin trading site, allowing users to trade cryptocurrencies directly with each other.\"\\n    },\\n    {\\n      \"name\": \"NiceHash\",\\n      \"description\": \"Operates on the concept of a sharing economy, connecting sellers and buyers of computing power.\"\\n    },\\n    {\\n      \"name\": \"Bittrex\",\\n      \"description\": \"A U.S.-based blockchain platform providing real-time trading and industry-leading security.\"\\n    },\\n    {\\n      \"name\": \"eToro\",\\n      \"description\": \"Excels in social trading features, allowing users to replicate the strategies of proven traders.\"\\n    },\\n    {\\n      \"name\": \"Poloniex\",\\n      \"description\": \"A leading cryptocurrency exchange offering a wide variety of digital assets for trading.\"\\n    },\\n    {\\n      \"name\": \"Blockchain\",\\n      \"description\": \"Specializes in blockchain technology and cryptocurrency-related solutions.\"\\n    },\\n    {\\n      \"name\": \"Circle\",\\n      \"description\": \"Provides financial technology solutions for global fund transfers and crypto treasury management.\"\\n    },\\n    {\\n      \"name\": \"BlockFi\",\\n      \"description\": \"Focuses on building products for cryptocurrencies, including interest-earning accounts and loan security.\"\\n    },\\n    {\\n      \"name\": \"CoinZoom\",\\n      \"description\": \"Offers a platform for buying, selling, and trading cryptocurrencies with a focus on user experience.\"\\n    },\\n    {\\n      \"name\": \"CoinDCX\",\\n      \"description\": \"Provides a cryptocurrency investment platform with a focus on user experience.\"\\n    },\\n    {\\n      \"name\": \"FTX\",\\n      \"description\": \"Operates as a cryptocurrency exchange platform offering derivatives, options, and volatility products.\"\\n    },\\n    {\\n      \"name\": \"BitPay\",\\n      \"description\": \"Develops software tools for businesses to collect payments through peer-to-peer payment networks.\"\\n    }\\n  ],\\n  \"founder_background\": {\\n    \"name\": \"Brian Armstrong\",\\n    \"birth_date\": \"January 25, 1983\",\\n    \"education\": {\\n      \"undergraduate\": {\\n        \"degree\": \"Bachelor\\'s in Economics and Computer Science\",\\n        \"institution\": \"Rice University\",\\n        \"year\": 2005\\n      },\\n      \"graduate\": {\\n        \"degree\": \"Master\\'s in Computer Science\",\\n        \"institution\": \"Rice University\",\\n        \"year\": 2006\\n      }\\n    },\\n    \"previous_work_experience\": [\\n      {\\n        \"company\": \"IBM\",\\n        \"role\": \"Developer Intern\"\\n      },\\n      {\\n        \"company\": \"Deloitte\",\\n        \"role\": \"Consultant in Enterprise Risk Management\"\\n      },\\n      {\\n        \"company\": \"Airbnb\",\\n        \"role\": \"Software Engineer\"\\n      }\\n    ],\\n    \"notable_achievements\": [\\n      {\\n        \"achievement\": \"Founded Coinbase in 2012\",\\n        \"details\": \"Received $150,000 funding from Y Combinator.\"\\n      },\\n      {\\n        \"achievement\": \"Launched GiveCrypto.org in 2018\",\\n        \"details\": \"A nonprofit aimed at distributing cryptocurrency globally.\"\\n      },\\n      {\\n        \"achievement\": \"Signed the Giving Pledge in 2018\",\\n        \"details\": \"Committed to giving away the bulk of his wealth to charitable causes.\"\\n      },\\n      {\\n        \"achievement\": \"Led Coinbase to a public listing on NASDAQ in 2021\",\\n        \"details\": \"Significant growth and recognition in the cryptocurrency industry.\"\\n      }\\n    ],\\n    \"net_worth\": \"$7.4 billion (as of 2024)\"\\n  }\\n}\\n```'}}"
      ]
     },
     "execution_count": 10,
     "metadata": {},
     "output_type": "execute_result"
    }
   ],
   "source": [
    "run = workflow.init_run(input=\"Coinbase\")\n",
    "run.run()\n",
    "run.ios"
   ]
  },
  {
   "cell_type": "code",
   "execution_count": 11,
   "metadata": {},
   "outputs": [
    {
     "data": {
      "text/markdown": [
       "Here is the structured JSON format containing the competitors of Coinbase and detailed background information about its founder, Brian Armstrong:\n",
       "\n",
       "```json\n",
       "{\n",
       "  \"competitors\": [\n",
       "    {\n",
       "      \"name\": \"Binance\",\n",
       "      \"description\": \"A global giant in cryptocurrency trading, offering a diverse range of cryptocurrencies and low fees.\"\n",
       "    },\n",
       "    {\n",
       "      \"name\": \"Kraken\",\n",
       "      \"description\": \"One of the largest Bitcoin exchanges in terms of euro volume and liquidity, supporting multiple fiat currencies.\"\n",
       "    },\n",
       "    {\n",
       "      \"name\": \"Gemini\",\n",
       "      \"description\": \"Prioritizes security and regulatory compliance, making it a reliable choice for users.\"\n",
       "    },\n",
       "    {\n",
       "      \"name\": \"KuCoin\",\n",
       "      \"description\": \"A centralized cryptocurrency exchange serving international markets with a wide range of digital assets.\"\n",
       "    },\n",
       "    {\n",
       "      \"name\": \"LocalBitcoins\",\n",
       "      \"description\": \"A person-to-person bitcoin trading site, allowing users to trade cryptocurrencies directly with each other.\"\n",
       "    },\n",
       "    {\n",
       "      \"name\": \"NiceHash\",\n",
       "      \"description\": \"Operates on the concept of a sharing economy, connecting sellers and buyers of computing power.\"\n",
       "    },\n",
       "    {\n",
       "      \"name\": \"Bittrex\",\n",
       "      \"description\": \"A U.S.-based blockchain platform providing real-time trading and industry-leading security.\"\n",
       "    },\n",
       "    {\n",
       "      \"name\": \"eToro\",\n",
       "      \"description\": \"Excels in social trading features, allowing users to replicate the strategies of proven traders.\"\n",
       "    },\n",
       "    {\n",
       "      \"name\": \"Poloniex\",\n",
       "      \"description\": \"A leading cryptocurrency exchange offering a wide variety of digital assets for trading.\"\n",
       "    },\n",
       "    {\n",
       "      \"name\": \"Blockchain\",\n",
       "      \"description\": \"Specializes in blockchain technology and cryptocurrency-related solutions.\"\n",
       "    },\n",
       "    {\n",
       "      \"name\": \"Circle\",\n",
       "      \"description\": \"Provides financial technology solutions for global fund transfers and crypto treasury management.\"\n",
       "    },\n",
       "    {\n",
       "      \"name\": \"BlockFi\",\n",
       "      \"description\": \"Focuses on building products for cryptocurrencies, including interest-earning accounts and loan security.\"\n",
       "    },\n",
       "    {\n",
       "      \"name\": \"CoinZoom\",\n",
       "      \"description\": \"Offers a platform for buying, selling, and trading cryptocurrencies with a focus on user experience.\"\n",
       "    },\n",
       "    {\n",
       "      \"name\": \"CoinDCX\",\n",
       "      \"description\": \"Provides a cryptocurrency investment platform with a focus on user experience.\"\n",
       "    },\n",
       "    {\n",
       "      \"name\": \"FTX\",\n",
       "      \"description\": \"Operates as a cryptocurrency exchange platform offering derivatives, options, and volatility products.\"\n",
       "    },\n",
       "    {\n",
       "      \"name\": \"BitPay\",\n",
       "      \"description\": \"Develops software tools for businesses to collect payments through peer-to-peer payment networks.\"\n",
       "    }\n",
       "  ],\n",
       "  \"founder_background\": {\n",
       "    \"name\": \"Brian Armstrong\",\n",
       "    \"birth_date\": \"January 25, 1983\",\n",
       "    \"education\": {\n",
       "      \"undergraduate\": {\n",
       "        \"degree\": \"Bachelor's in Economics and Computer Science\",\n",
       "        \"institution\": \"Rice University\",\n",
       "        \"year\": 2005\n",
       "      },\n",
       "      \"graduate\": {\n",
       "        \"degree\": \"Master's in Computer Science\",\n",
       "        \"institution\": \"Rice University\",\n",
       "        \"year\": 2006\n",
       "      }\n",
       "    },\n",
       "    \"previous_work_experience\": [\n",
       "      {\n",
       "        \"company\": \"IBM\",\n",
       "        \"role\": \"Developer Intern\"\n",
       "      },\n",
       "      {\n",
       "        \"company\": \"Deloitte\",\n",
       "        \"role\": \"Consultant in Enterprise Risk Management\"\n",
       "      },\n",
       "      {\n",
       "        \"company\": \"Airbnb\",\n",
       "        \"role\": \"Software Engineer\"\n",
       "      }\n",
       "    ],\n",
       "    \"notable_achievements\": [\n",
       "      {\n",
       "        \"achievement\": \"Founded Coinbase in 2012\",\n",
       "        \"details\": \"Received $150,000 funding from Y Combinator.\"\n",
       "      },\n",
       "      {\n",
       "        \"achievement\": \"Launched GiveCrypto.org in 2018\",\n",
       "        \"details\": \"A nonprofit aimed at distributing cryptocurrency globally.\"\n",
       "      },\n",
       "      {\n",
       "        \"achievement\": \"Signed the Giving Pledge in 2018\",\n",
       "        \"details\": \"Committed to giving away the bulk of his wealth to charitable causes.\"\n",
       "      },\n",
       "      {\n",
       "        \"achievement\": \"Led Coinbase to a public listing on NASDAQ in 2021\",\n",
       "        \"details\": \"Significant growth and recognition in the cryptocurrency industry.\"\n",
       "      }\n",
       "    ],\n",
       "    \"net_worth\": \"$7.4 billion (as of 2024)\"\n",
       "  }\n",
       "}\n",
       "```"
      ],
      "text/plain": [
       "<IPython.core.display.Markdown object>"
      ]
     },
     "execution_count": 11,
     "metadata": {},
     "output_type": "execute_result"
    }
   ],
   "source": [
    "from IPython.display import Markdown\n",
    "\n",
    "Markdown(run.ios[\"3\"]['output'])"
   ]
  },
  {
   "cell_type": "code",
   "execution_count": null,
   "metadata": {},
   "outputs": [],
   "source": []
  }
 ],
 "metadata": {
  "kernelspec": {
   "display_name": "venv",
   "language": "python",
   "name": "python3"
  },
  "language_info": {
   "codemirror_mode": {
    "name": "ipython",
    "version": 3
   },
   "file_extension": ".py",
   "mimetype": "text/x-python",
   "name": "python",
   "nbconvert_exporter": "python",
   "pygments_lexer": "ipython3",
   "version": "3.12.4"
  }
 },
 "nbformat": 4,
 "nbformat_minor": 2
}
